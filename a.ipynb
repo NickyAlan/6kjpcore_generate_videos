{
 "cells": [
  {
   "cell_type": "code",
   "execution_count": 79,
   "metadata": {},
   "outputs": [],
   "source": [
    "import requests\n",
    "from time import sleep\n",
    "from bs4 import BeautifulSoup"
   ]
  },
  {
   "cell_type": "code",
   "execution_count": 80,
   "metadata": {},
   "outputs": [],
   "source": [
    "def get_ts4_download_url(live_url: str) :\n",
    "    '''get bigo live url return ts4 url for download video'''\n",
    "    \n",
    "    if 'user' in live_url :\n",
    "        sec = live_url.split('/')\n",
    "        live_url = f'{sec[0]}//{sec[2]}/{sec[-1]}'\n",
    "        \n",
    "    headers = {\n",
    "        'authority': 'www.bigo.tv',\n",
    "        'accept': 'text/html,application/xhtml+xml,application/xml;q=0.9,image/avif,image/webp,image/apng,*/*;q=0.8',\n",
    "        'accept-language': 'en-US,en;q=0.6',\n",
    "        'cache-control': 'max-age=0',\n",
    "        'if-none-match': '\"b79c-50y7eHVbSM5EKBtIsozGib2OqjQ\"',\n",
    "        'referer': 'https://www.bigo.tv/user/887831407',\n",
    "        'sec-ch-ua': '\"Chromium\";v=\"116\", \"Not)A;Brand\";v=\"24\", \"Brave\";v=\"116\"',\n",
    "        'sec-ch-ua-mobile': '?1',\n",
    "        'sec-ch-ua-platform': '\"Android\"',\n",
    "        'sec-fetch-dest': 'document',\n",
    "        'sec-fetch-mode': 'navigate',\n",
    "        'sec-fetch-site': 'same-origin',\n",
    "        'sec-fetch-user': '?1',\n",
    "        'sec-gpc': '1',\n",
    "        'upgrade-insecure-requests': '1',\n",
    "        'user-agent': 'Mozilla/5.0 (Linux; Android 6.0; Nexus 5 Build/MRA58N) AppleWebKit/537.36 (KHTML, like Gecko) Chrome/116.0.0.0 Mobile Safari/537.36',\n",
    "    }\n",
    "\n",
    "    response = requests.get(live_url, headers=headers)\n",
    "    try :\n",
    "        soup = BeautifulSoup(response.text, 'html.parser')\n",
    "        m3u8_url = soup.find('video').find('source')['src']\n",
    "        base = m3u8_url.split('/')\n",
    "        base_url = f'{base[0]}//{base[2]}'\n",
    "\n",
    "        headers = {\n",
    "            'Accept': '*/*',\n",
    "            'Accept-Language': 'en-US,en;q=0.6',\n",
    "            'Connection': 'keep-alive',\n",
    "            'Origin': 'https://www.bigo.tv',\n",
    "            'Referer': 'https://www.bigo.tv/',\n",
    "            'Sec-Fetch-Dest': 'empty',\n",
    "            'Sec-Fetch-Mode': 'cors',\n",
    "            'Sec-Fetch-Site': 'cross-site',\n",
    "            'Sec-GPC': '1',\n",
    "            'User-Agent': 'Mozilla/5.0 (Linux; Android 6.0; Nexus 5 Build/MRA58N) AppleWebKit/537.36 (KHTML, like Gecko) Chrome/116.0.0.0 Mobile Safari/537.36',\n",
    "            'sec-ch-ua': '\"Chromium\";v=\"116\", \"Not)A;Brand\";v=\"24\", \"Brave\";v=\"116\"',\n",
    "            'sec-ch-ua-mobile': '?1',\n",
    "            'sec-ch-ua-platform': '\"Android\"',\n",
    "        }\n",
    "\n",
    "        delay_sec = 3\n",
    "        response = requests.get(m3u8_url, headers=headers)\n",
    "        response: list = response.text.split('\\n')\n",
    "        start_id = int(response[2].split(':')[-1]) + delay_sec\n",
    "        base_nums: list = response[6].split('_')\n",
    "        base_num_list = [base_nums[0], base_nums[-1].split('&')[1]]\n",
    "        \n",
    "        return [start_id, base_url, base_num_list]\n",
    "    except :\n",
    "        return 'not found'"
   ]
  },
  {
   "cell_type": "code",
   "execution_count": 81,
   "metadata": {},
   "outputs": [
    {
     "data": {
      "text/plain": [
       "(2133, 'https://114988A9.cubetecn.com:1461', ['2572894312', '528304538'])"
      ]
     },
     "execution_count": 81,
     "metadata": {},
     "output_type": "execute_result"
    }
   ],
   "source": [
    "URL = 'https://www.bigo.tv/user/ppai69'\n",
    "start_id, base_url, base_num_list = get_ts4_download_url(URL)\n",
    "start_id, base_url, base_num_list"
   ]
  },
  {
   "cell_type": "code",
   "execution_count": 82,
   "metadata": {},
   "outputs": [],
   "source": [
    "SEC_INTERVAL = 2"
   ]
  },
  {
   "cell_type": "code",
   "execution_count": 83,
   "metadata": {},
   "outputs": [
    {
     "name": "stdout",
     "output_type": "stream",
     "text": [
      "https://114988A9.cubetecn.com:1461/2572894312_2133&528304538&0.ts\n"
     ]
    }
   ],
   "source": [
    "n_not_complete = 0\n",
    "while n_not_complete < 5 :\n",
    "    download_url = f'{base_url}/{base_num_list[0]}_{start_id}&{base_num_list[1]}&0.ts'\n",
    "    start_id += 1\n",
    "    sleep(SEC_INTERVAL)\n",
    "    print(download_url)\n",
    "    break"
   ]
  },
  {
   "cell_type": "code",
   "execution_count": 1,
   "metadata": {},
   "outputs": [],
   "source": [
    "import pyautogui"
   ]
  },
  {
   "cell_type": "code",
   "execution_count": 3,
   "metadata": {},
   "outputs": [
    {
     "data": {
      "text/plain": [
       "Point(x=710, y=563)"
      ]
     },
     "execution_count": 3,
     "metadata": {},
     "output_type": "execute_result"
    }
   ],
   "source": [
    "pyautogui.position()"
   ]
  }
 ],
 "metadata": {
  "kernelspec": {
   "display_name": "Python 3",
   "language": "python",
   "name": "python3"
  },
  "language_info": {
   "codemirror_mode": {
    "name": "ipython",
    "version": 3
   },
   "file_extension": ".py",
   "mimetype": "text/x-python",
   "name": "python",
   "nbconvert_exporter": "python",
   "pygments_lexer": "ipython3",
   "version": "3.10.0"
  },
  "orig_nbformat": 4
 },
 "nbformat": 4,
 "nbformat_minor": 2
}
